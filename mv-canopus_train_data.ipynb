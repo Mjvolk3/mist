{
 "cells": [
  {
   "attachments": {},
   "cell_type": "markdown",
   "metadata": {},
   "source": [
    "## Inspecting Data\n",
    "- Referencing src/mist/train_mist.py"
   ]
  },
  {
   "cell_type": "code",
   "execution_count": 1,
   "metadata": {},
   "outputs": [],
   "source": [
    "import argparse\n",
    "import logging\n",
    "import pickle\n",
    "from pathlib import Path\n",
    "\n",
    "import yaml\n",
    "\n",
    "from mist import parsing, utils\n",
    "from mist.data import datasets, featurizers, splitter\n",
    "from mist.models import mist_model"
   ]
  },
  {
   "cell_type": "code",
   "execution_count": 2,
   "metadata": {},
   "outputs": [
    {
     "data": {
      "text/plain": [
       "'/Users/michaelvolk/Documents/projects/mist'"
      ]
     },
     "execution_count": 2,
     "metadata": {},
     "output_type": "execute_result"
    }
   ],
   "source": [
    "import os\n",
    "os.getcwd()"
   ]
  },
  {
   "cell_type": "code",
   "execution_count": 3,
   "metadata": {},
   "outputs": [],
   "source": [
    "#kwargs passed through arg parse\n",
    "kwargs = {\n",
    "  \"debug\": False,\n",
    "  \"seed\": 1,\n",
    "  \"save_dir\": \"results/model_train_demos/mist_fp_model\",\n",
    "  \"dataset_name\": \"canopus_train_public\",\n",
    "  \"splitter_name\": \"preset\",\n",
    "  \"reshuffle_val\": False,\n",
    "  \"split_sizes\": [\n",
    "    0.8,\n",
    "    0.1,\n",
    "    0.1\n",
    "  ],\n",
    "  \"split_file\": \"data/paired_spectra/canopus_train_public/splits/canopus_hplus_100_0.csv\",\n",
    "  \"augment_data\": True,\n",
    "  \"augment_prob\": 0.5,\n",
    "  \"remove_weights\": \"exp\",\n",
    "  \"inten_prob\": 0.1,\n",
    "  \"remove_prob\": 0.5,\n",
    "  \"add_forward_specs\": False,\n",
    "  \"forward_aug_folder\": None,\n",
    "  \"frac_orig\": 0.4,\n",
    "  \"learning_rate\": 0.00077,\n",
    "  \"weight_decay\": 1e-07,\n",
    "  \"min_lr\": 0.0001,\n",
    "  \"lr_decay_frac\": 0.95,\n",
    "  \"scheduler\": False,\n",
    "  \"lr_decay_time\": 10000,\n",
    "  \"patience\": 30,\n",
    "  \"optim_name\": \"radam\",\n",
    "  \"ckpt_file\": None,\n",
    "  \"min_epochs\": None,\n",
    "  \"gpus\": 0,\n",
    "  \"max_epochs\": 600,\n",
    "  \"batch_size\": 128,\n",
    "  \"num_workers\": 0,\n",
    "  \"persistent_workers\": False,\n",
    "  \"cache_featurizers\": True,\n",
    "  \"gradient_clip_val\": 5,\n",
    "  \"loss_fn\": \"cosine\",\n",
    "  \"worst_k_weight\": None,\n",
    "  \"top_layers\": 1,\n",
    "  \"fp_names\": [\n",
    "    \"morgan4096\"\n",
    "  ],\n",
    "  \"shuffle_train\": False,\n",
    "  \"iterative_preds\": \"growing\",\n",
    "  \"iterative_loss_weight\": 0.4,\n",
    "  \"refine_layers\": 4,\n",
    "  \"hidden_size\": 256,\n",
    "  \"max_peaks\": None,\n",
    "  \"spectra_dropout\": 0.1,\n",
    "  \"frag_fps_loss_lambda\": 8.0,\n",
    "  \"magma_modulo\": 512,\n",
    "  \"magma_aux_loss\": True,\n",
    "  \"peak_attn_layers\": 2,\n",
    "  \"num_heads\": 8,\n",
    "  \"additive_attn\": False,\n",
    "  \"pairwise_featurization\": True,\n",
    "  \"use_cls\": True,\n",
    "  \"single_form_encoder\": True,\n",
    "  \"recycle_form_encoder\": True,\n",
    "  \"cls_type\": \"ms1\",\n",
    "  \"set_pooling\": \"cls\",\n",
    "  \"max_count\": None,\n",
    "  \"model\": \"MistNet\",\n",
    "  \"spec_features\": \"peakformula\",\n",
    "  \"mol_features\": \"fingerprint\",\n",
    "  \"dataset_type\": \"default\"\n",
    "}\n"
   ]
  },
  {
   "cell_type": "code",
   "execution_count": 4,
   "metadata": {},
   "outputs": [
    {
     "name": "stderr",
     "output_type": "stream",
     "text": [
      "10709it [00:00, 151019.93it/s]\n",
      "10709it [00:01, 9080.16it/s]\n",
      "10709it [00:00, 5143341.52it/s]\n"
     ]
    }
   ],
   "source": [
    "my_splitter = splitter.get_splitter(**kwargs)\n",
    "# Get model class\n",
    "model_class = mist_model.MistNet\n",
    "kwargs[\"model\"] = model_class.__name__\n",
    "kwargs[\"spec_features\"] = model_class.spec_features()\n",
    "kwargs[\"mol_features\"] = model_class.mol_features()\n",
    "kwargs[\"dataset_type\"] = model_class.dataset_type()\n",
    "\n",
    "# Get featurizers\n",
    "paired_featurizer = featurizers.get_paired_featurizer(**kwargs)\n",
    "\n",
    "# Build dataset\n",
    "spectra_mol_pairs = datasets.get_paired_spectra(**kwargs)\n",
    "spectra_mol_pairs = list(zip(*spectra_mol_pairs))\n",
    "\n",
    "# Redefine splitter s.t. this splits three times and remove subsetting\n",
    "split_name, (train, val, test) = my_splitter.get_splits(spectra_mol_pairs)\n"
   ]
  },
  {
   "cell_type": "code",
   "execution_count": 5,
   "metadata": {},
   "outputs": [],
   "source": [
    "train_dataset = datasets.SpectraMolDataset(\n",
    "        spectra_mol_list=train, featurizer=paired_featurizer, **kwargs\n",
    "    )\n",
    "val_dataset = datasets.SpectraMolDataset(\n",
    "    spectra_mol_list=val, featurizer=paired_featurizer, **kwargs\n",
    ")\n",
    "test_dataset = datasets.SpectraMolDataset(\n",
    "    spectra_mol_list=test, featurizer=paired_featurizer, **kwargs\n",
    ")\n",
    "spec_dataloader_module = datasets.SpecDataModule(\n",
    "    train_dataset, val_dataset, test_dataset, **kwargs\n",
    ")"
   ]
  },
  {
   "cell_type": "code",
   "execution_count": 119,
   "metadata": {},
   "outputs": [
    {
     "name": "stdout",
     "output_type": "stream",
     "text": [
      "Train len: 6141\n",
      "Val len: 1070\n",
      "Test len: 819\n"
     ]
    }
   ],
   "source": [
    "print(f\"Train len: {len(train_dataset)}\")\n",
    "print(f\"Val len: {len(val_dataset)}\")\n",
    "print(f\"Test len: {len(test_dataset)}\")"
   ]
  },
  {
   "cell_type": "code",
   "execution_count": 120,
   "metadata": {},
   "outputs": [
    {
     "data": {
      "text/plain": [
       "{'spec': [{'peak_type': array([0, 0, 0, 0, 0, 0, 0, 0, 0, 0, 0, 0, 0, 0, 0, 0, 0, 0, 0, 0, 0, 0,\n",
       "          0, 0, 0, 0, 0, 0, 0, 0, 0, 0, 0, 0, 0, 0, 0, 0, 0, 0, 0, 0, 3]),\n",
       "   'form_vec': array([[0.27160494, 0.        , 0.        , 0.29411765, 0.        ,\n",
       "           0.        , 0.        , 0.12658228, 0.        , 0.        ,\n",
       "           0.        , 0.        , 0.        , 0.        , 0.        ,\n",
       "           0.        , 0.30210197],\n",
       "          [0.14814815, 0.        , 0.        , 0.14705882, 0.        ,\n",
       "           0.        , 0.        , 0.06329114, 0.        , 0.        ,\n",
       "           0.        , 0.        , 0.        , 0.        , 0.        ,\n",
       "           0.        , 0.15921618],\n",
       "          [0.13580247, 0.        , 0.        , 0.11764706, 0.        ,\n",
       "           0.        , 0.        , 0.06329114, 0.        , 0.        ,\n",
       "           0.        , 0.        , 0.        , 0.        , 0.        ,\n",
       "           0.        , 0.14017471],\n",
       "          [0.13580247, 0.        , 0.        , 0.11764706, 0.        ,\n",
       "           0.        , 0.        , 0.05063291, 0.        , 0.        ,\n",
       "           0.        , 0.        , 0.        , 0.        , 0.        ,\n",
       "           0.        , 0.13880421],\n",
       "          [0.12345679, 0.        , 0.        , 0.11764706, 0.        ,\n",
       "           0.        , 0.        , 0.05063291, 0.        , 0.        ,\n",
       "           0.        , 0.        , 0.        , 0.        , 0.        ,\n",
       "           0.        , 0.13063902],\n",
       "          [0.13580247, 0.        , 0.        , 0.08823529, 0.        ,\n",
       "           0.        , 0.        , 0.05063291, 0.        , 0.        ,\n",
       "           0.        , 0.        , 0.        , 0.        , 0.        ,\n",
       "           0.        , 0.12792794],\n",
       "          [0.12345679, 0.        , 0.        , 0.08823529, 0.        ,\n",
       "           0.        , 0.        , 0.06329114, 0.        , 0.        ,\n",
       "           0.        , 0.        , 0.        , 0.        , 0.        ,\n",
       "           0.        , 0.12113324],\n",
       "          [0.12345679, 0.        , 0.        , 0.08823529, 0.        ,\n",
       "           0.        , 0.        , 0.05063291, 0.        , 0.        ,\n",
       "           0.        , 0.        , 0.        , 0.        , 0.        ,\n",
       "           0.        , 0.11976275],\n",
       "          [0.12345679, 0.        , 0.        , 0.08823529, 0.        ,\n",
       "           0.        , 0.        , 0.03797468, 0.        , 0.        ,\n",
       "           0.        , 0.        , 0.        , 0.        , 0.        ,\n",
       "           0.        , 0.11839225],\n",
       "          [0.09876543, 0.        , 0.        , 0.11764706, 0.        ,\n",
       "           0.        , 0.        , 0.03797468, 0.        , 0.        ,\n",
       "           0.        , 0.        , 0.        , 0.        , 0.        ,\n",
       "           0.        , 0.11293814],\n",
       "          [0.12345679, 0.        , 0.        , 0.05882353, 0.        ,\n",
       "           0.        , 0.        , 0.05063291, 0.        , 0.        ,\n",
       "           0.        , 0.        , 0.        , 0.        , 0.        ,\n",
       "           0.        , 0.10888647],\n",
       "          [0.11111111, 0.        , 0.        , 0.05882353, 0.        ,\n",
       "           0.        , 0.        , 0.06329114, 0.        , 0.        ,\n",
       "           0.        , 0.        , 0.        , 0.        , 0.        ,\n",
       "           0.        , 0.10209177],\n",
       "          [0.09876543, 0.        , 0.        , 0.08823529, 0.        ,\n",
       "           0.        , 0.        , 0.03797468, 0.        , 0.        ,\n",
       "           0.        , 0.        , 0.        , 0.        , 0.        ,\n",
       "           0.        , 0.10206186],\n",
       "          [0.11111111, 0.        , 0.        , 0.05882353, 0.        ,\n",
       "           0.        , 0.        , 0.03797468, 0.        , 0.        ,\n",
       "           0.        , 0.        , 0.        , 0.        , 0.        ,\n",
       "           0.        , 0.09935078],\n",
       "          [0.08641975, 0.        , 0.        , 0.08823529, 0.        ,\n",
       "           0.        , 0.        , 0.03797468, 0.        , 0.        ,\n",
       "           0.        , 0.        , 0.        , 0.        , 0.        ,\n",
       "           0.        , 0.09389667],\n",
       "          [0.09876543, 0.        , 0.        , 0.05882353, 0.        ,\n",
       "           0.        , 0.        , 0.05063291, 0.        , 0.        ,\n",
       "           0.        , 0.        , 0.        , 0.        , 0.        ,\n",
       "           0.        , 0.09255608],\n",
       "          [0.08641975, 0.        , 0.        , 0.08823529, 0.        ,\n",
       "           0.        , 0.        , 0.02531646, 0.        , 0.        ,\n",
       "           0.        , 0.        , 0.        , 0.        , 0.        ,\n",
       "           0.        , 0.09252617],\n",
       "          [0.09876543, 0.        , 0.        , 0.05882353, 0.        ,\n",
       "           0.        , 0.        , 0.03797468, 0.        , 0.        ,\n",
       "           0.        , 0.        , 0.        , 0.        , 0.        ,\n",
       "           0.        , 0.09118559],\n",
       "          [0.11111111, 0.        , 0.        , 0.02941176, 0.        ,\n",
       "           0.        , 0.        , 0.05063291, 0.        , 0.        ,\n",
       "           0.        , 0.        , 0.        , 0.        , 0.        ,\n",
       "           0.        , 0.089845  ],\n",
       "          [0.11111111, 0.        , 0.        , 0.02941176, 0.        ,\n",
       "           0.        , 0.        , 0.03797468, 0.        , 0.        ,\n",
       "           0.        , 0.        , 0.        , 0.        , 0.        ,\n",
       "           0.        , 0.08847451],\n",
       "          [0.07407407, 0.        , 0.        , 0.08823529, 0.        ,\n",
       "           0.        , 0.        , 0.02531646, 0.        , 0.        ,\n",
       "           0.        , 0.        , 0.        , 0.        , 0.        ,\n",
       "           0.        , 0.08436098],\n",
       "          [0.08641975, 0.        , 0.        , 0.05882353, 0.        ,\n",
       "           0.        , 0.        , 0.03797468, 0.        , 0.        ,\n",
       "           0.        , 0.        , 0.        , 0.        , 0.        ,\n",
       "           0.        , 0.08302039],\n",
       "          [0.11111111, 0.        , 0.        , 0.        , 0.        ,\n",
       "           0.        , 0.        , 0.03797468, 0.        , 0.        ,\n",
       "           0.        , 0.        , 0.        , 0.        , 0.        ,\n",
       "           0.        , 0.07759823],\n",
       "          [0.07407407, 0.        , 0.        , 0.05882353, 0.        ,\n",
       "           0.        , 0.        , 0.03797468, 0.        , 0.        ,\n",
       "           0.        , 0.        , 0.        , 0.        , 0.        ,\n",
       "           0.        , 0.0748552 ],\n",
       "          [0.07407407, 0.        , 0.        , 0.05882353, 0.        ,\n",
       "           0.        , 0.        , 0.02531646, 0.        , 0.        ,\n",
       "           0.        , 0.        , 0.        , 0.        , 0.        ,\n",
       "           0.        , 0.0734847 ],\n",
       "          [0.07407407, 0.        , 0.        , 0.05882353, 0.        ,\n",
       "           0.        , 0.        , 0.01898734, 0.        , 0.        ,\n",
       "           0.        , 0.        , 0.        , 0.        , 0.        ,\n",
       "           0.        , 0.07279946],\n",
       "          [0.08641975, 0.        , 0.        , 0.02941176, 0.        ,\n",
       "           0.        , 0.        , 0.02531646, 0.        , 0.        ,\n",
       "           0.        , 0.        , 0.        , 0.        , 0.        ,\n",
       "           0.        , 0.07077362],\n",
       "          [0.09876543, 0.        , 0.        , 0.        , 0.        ,\n",
       "           0.        , 0.        , 0.03797468, 0.        , 0.        ,\n",
       "           0.        , 0.        , 0.        , 0.        , 0.        ,\n",
       "           0.        , 0.06943304],\n",
       "          [0.0617284 , 0.        , 0.        , 0.05882353, 0.        ,\n",
       "           0.        , 0.        , 0.03797468, 0.        , 0.        ,\n",
       "           0.        , 0.        , 0.        , 0.        , 0.        ,\n",
       "           0.        , 0.06669001],\n",
       "          [0.07407407, 0.        , 0.        , 0.02941176, 0.        ,\n",
       "           0.        , 0.        , 0.03797468, 0.        , 0.        ,\n",
       "           0.        , 0.        , 0.        , 0.        , 0.        ,\n",
       "           0.        , 0.06397893],\n",
       "          [0.0617284 , 0.        , 0.        , 0.05882353, 0.        ,\n",
       "           0.        , 0.        , 0.01265823, 0.        , 0.        ,\n",
       "           0.        , 0.        , 0.        , 0.        , 0.        ,\n",
       "           0.        , 0.06394901],\n",
       "          [0.07407407, 0.        , 0.        , 0.02941176, 0.        ,\n",
       "           0.        , 0.        , 0.02531646, 0.        , 0.        ,\n",
       "           0.        , 0.        , 0.        , 0.        , 0.        ,\n",
       "           0.        , 0.06260843],\n",
       "          [0.08641975, 0.        , 0.        , 0.        , 0.        ,\n",
       "           0.        , 0.        , 0.03797468, 0.        , 0.        ,\n",
       "           0.        , 0.        , 0.        , 0.        , 0.        ,\n",
       "           0.        , 0.06126785],\n",
       "          [0.07407407, 0.        , 0.        , 0.        , 0.        ,\n",
       "           0.        , 0.        , 0.03797468, 0.        , 0.        ,\n",
       "           0.        , 0.        , 0.        , 0.        , 0.        ,\n",
       "           0.        , 0.05310265],\n",
       "          [0.07407407, 0.        , 0.        , 0.        , 0.        ,\n",
       "           0.        , 0.        , 0.02531646, 0.        , 0.        ,\n",
       "           0.        , 0.        , 0.        , 0.        , 0.        ,\n",
       "           0.        , 0.05173215],\n",
       "          [0.04938272, 0.        , 0.        , 0.02941176, 0.        ,\n",
       "           0.        , 0.        , 0.02531646, 0.        , 0.        ,\n",
       "           0.        , 0.        , 0.        , 0.        , 0.        ,\n",
       "           0.        , 0.04627804],\n",
       "          [0.03703704, 0.        , 0.        , 0.05882353, 0.        ,\n",
       "           0.        , 0.        , 0.        , 0.        , 0.        ,\n",
       "           0.        , 0.        , 0.        , 0.        , 0.        ,\n",
       "           0.        , 0.04624813],\n",
       "          [0.04938272, 0.        , 0.        , 0.02941176, 0.        ,\n",
       "           0.        , 0.        , 0.01265823, 0.        , 0.        ,\n",
       "           0.        , 0.        , 0.        , 0.        , 0.        ,\n",
       "           0.        , 0.04490755],\n",
       "          [0.02469136, 0.        , 0.        , 0.05882353, 0.        ,\n",
       "           0.        , 0.        , 0.01265823, 0.        , 0.        ,\n",
       "           0.        , 0.        , 0.        , 0.        , 0.        ,\n",
       "           0.        , 0.03945343],\n",
       "          [0.03703704, 0.        , 0.        , 0.02941176, 0.        ,\n",
       "           0.        , 0.        , 0.01265823, 0.        , 0.        ,\n",
       "           0.        , 0.        , 0.        , 0.        , 0.        ,\n",
       "           0.        , 0.03674235],\n",
       "          [0.04938272, 0.        , 0.        , 0.        , 0.        ,\n",
       "           0.        , 0.        , 0.02531646, 0.        , 0.        ,\n",
       "           0.        , 0.        , 0.        , 0.        , 0.        ,\n",
       "           0.        , 0.03540177],\n",
       "          [0.04938272, 0.        , 0.        , 0.        , 0.        ,\n",
       "           0.        , 0.        , 0.01265823, 0.        , 0.        ,\n",
       "           0.        , 0.        , 0.        , 0.        , 0.        ,\n",
       "           0.        , 0.03403127],\n",
       "          [0.27160494, 0.        , 0.        , 0.29411765, 0.        ,\n",
       "           0.        , 0.        , 0.12658228, 0.        , 0.        ,\n",
       "           0.        , 0.        , 0.        , 0.        , 0.        ,\n",
       "           0.        , 0.30210197]]),\n",
       "   'frag_intens': array([0.01128102, 0.0204125 , 0.01490978, 0.01586198, 0.0143037 ,\n",
       "          0.02091012, 0.01094376, 0.02340626, 0.00918631, 0.10351665,\n",
       "          0.02676292, 0.00949267, 0.01765126, 0.04078022, 0.02744716,\n",
       "          0.01109506, 0.01467048, 0.01080151, 0.0123458 , 0.01253288,\n",
       "          0.17060749, 0.01925507, 0.01100856, 0.02169099, 0.01168878,\n",
       "          0.01222131, 1.        , 0.01461076, 0.01870165, 0.01473329,\n",
       "          0.01260475, 0.01275981, 0.01550051, 0.00987667, 0.65136065,\n",
       "          0.11749766, 0.09788049, 0.01151887, 0.04363865, 0.02543671,\n",
       "          0.01945568, 0.04053013, 1.        ]),\n",
       "   'name': 'CCMSLIB00000001645',\n",
       "   'magma_fps': array([[ 0.,  0.,  0., ...,  0.,  0.,  0.],\n",
       "          [ 0.,  0.,  0., ...,  0.,  0.,  0.],\n",
       "          [ 0.,  0.,  0., ...,  0.,  0.,  0.],\n",
       "          ...,\n",
       "          [ 0.,  0.,  0., ...,  0.,  0.,  0.],\n",
       "          [ 0.,  0.,  0., ...,  0.,  0.,  0.],\n",
       "          [-1., -1., -1., ..., -1., -1., -1.]]),\n",
       "   'magma_aux_loss': True}],\n",
       " 'mol': [array([0, 0, 0, ..., 0, 0, 0], dtype=int8)],\n",
       " 'spec_indices': [0],\n",
       " 'mol_indices': [0],\n",
       " 'matched': [True]}"
      ]
     },
     "execution_count": 120,
     "metadata": {},
     "output_type": "execute_result"
    }
   ],
   "source": [
    "test_dataset[0]"
   ]
  },
  {
   "cell_type": "code",
   "execution_count": 121,
   "metadata": {},
   "outputs": [
    {
     "data": {
      "text/plain": [
       "dict_keys(['spec', 'mol', 'spec_indices', 'mol_indices', 'matched'])"
      ]
     },
     "execution_count": 121,
     "metadata": {},
     "output_type": "execute_result"
    }
   ],
   "source": [
    "test_dataset[0].keys()"
   ]
  },
  {
   "cell_type": "code",
   "execution_count": 122,
   "metadata": {},
   "outputs": [
    {
     "data": {
      "text/plain": [
       "dict_keys(['peak_type', 'form_vec', 'frag_intens', 'name', 'magma_fps', 'magma_aux_loss'])"
      ]
     },
     "execution_count": 122,
     "metadata": {},
     "output_type": "execute_result"
    }
   ],
   "source": [
    "test_dataset[0][\"spec\"][0].keys()"
   ]
  },
  {
   "cell_type": "code",
   "execution_count": 123,
   "metadata": {},
   "outputs": [
    {
     "data": {
      "text/plain": [
       "array([0, 0, 0, 0, 0, 0, 0, 0, 0, 0, 0, 0, 0, 0, 0, 0, 0, 0, 0, 0, 0, 0,\n",
       "       0, 0, 0, 0, 0, 0, 0, 0, 0, 0, 0, 0, 0, 0, 0, 0, 0, 0, 0, 0, 3])"
      ]
     },
     "execution_count": 123,
     "metadata": {},
     "output_type": "execute_result"
    }
   ],
   "source": [
    "test_dataset[0][\"spec\"][0][\"peak_type\"]"
   ]
  },
  {
   "cell_type": "code",
   "execution_count": 124,
   "metadata": {},
   "outputs": [
    {
     "data": {
      "text/plain": [
       "43"
      ]
     },
     "execution_count": 124,
     "metadata": {},
     "output_type": "execute_result"
    }
   ],
   "source": [
    "len(test_dataset[0][\"spec\"][0][\"peak_type\"])"
   ]
  },
  {
   "cell_type": "code",
   "execution_count": 126,
   "metadata": {},
   "outputs": [],
   "source": [
    "spec_lens = [len(test_dataset[i][\"spec\"]) for i in range(len(test_dataset))]"
   ]
  },
  {
   "cell_type": "code",
   "execution_count": 127,
   "metadata": {},
   "outputs": [
    {
     "data": {
      "text/plain": [
       "array([1])"
      ]
     },
     "execution_count": 127,
     "metadata": {},
     "output_type": "execute_result"
    }
   ],
   "source": [
    "import pandas as pd\n",
    "pd.Series(spec_lens).unique()"
   ]
  },
  {
   "cell_type": "code",
   "execution_count": 128,
   "metadata": {},
   "outputs": [
    {
     "data": {
      "text/plain": [
       "(43, 17)"
      ]
     },
     "execution_count": 128,
     "metadata": {},
     "output_type": "execute_result"
    }
   ],
   "source": [
    "test_dataset[0][\"spec\"][0][\"form_vec\"].shape"
   ]
  },
  {
   "cell_type": "code",
   "execution_count": 129,
   "metadata": {},
   "outputs": [
    {
     "data": {
      "text/plain": [
       "(43,)"
      ]
     },
     "execution_count": 129,
     "metadata": {},
     "output_type": "execute_result"
    }
   ],
   "source": [
    "test_dataset[0][\"spec\"][0][\"frag_intens\"].shape"
   ]
  },
  {
   "cell_type": "code",
   "execution_count": 130,
   "metadata": {},
   "outputs": [
    {
     "data": {
      "text/plain": [
       "'CCMSLIB00000001645'"
      ]
     },
     "execution_count": 130,
     "metadata": {},
     "output_type": "execute_result"
    }
   ],
   "source": [
    "test_dataset[0][\"spec\"][0][\"name\"]"
   ]
  },
  {
   "cell_type": "code",
   "execution_count": 131,
   "metadata": {},
   "outputs": [
    {
     "data": {
      "text/plain": [
       "(43, 2048)"
      ]
     },
     "execution_count": 131,
     "metadata": {},
     "output_type": "execute_result"
    }
   ],
   "source": [
    "test_dataset[0][\"spec\"][0][\"magma_fps\"].shape"
   ]
  },
  {
   "cell_type": "code",
   "execution_count": 132,
   "metadata": {},
   "outputs": [
    {
     "data": {
      "text/plain": [
       "True"
      ]
     },
     "execution_count": 132,
     "metadata": {},
     "output_type": "execute_result"
    }
   ],
   "source": [
    "test_dataset[0][\"spec\"][0][\"magma_aux_loss\"]"
   ]
  },
  {
   "cell_type": "code",
   "execution_count": 133,
   "metadata": {},
   "outputs": [
    {
     "data": {
      "text/plain": [
       "4096"
      ]
     },
     "execution_count": 133,
     "metadata": {},
     "output_type": "execute_result"
    }
   ],
   "source": [
    "len(test_dataset[0][\"mol\"][0])"
   ]
  },
  {
   "cell_type": "code",
   "execution_count": null,
   "metadata": {},
   "outputs": [],
   "source": []
  },
  {
   "cell_type": "code",
   "execution_count": null,
   "metadata": {},
   "outputs": [],
   "source": []
  }
 ],
 "metadata": {
  "kernelspec": {
   "display_name": "ms-gen",
   "language": "python",
   "name": "python3"
  },
  "language_info": {
   "codemirror_mode": {
    "name": "ipython",
    "version": 3
   },
   "file_extension": ".py",
   "mimetype": "text/x-python",
   "name": "python",
   "nbconvert_exporter": "python",
   "pygments_lexer": "ipython3",
   "version": "3.8.16"
  },
  "orig_nbformat": 4,
  "vscode": {
   "interpreter": {
    "hash": "9284b98e3b904f5fe7383ac1e49890d9890908c8c99243e71e839ec46684dfed"
   }
  }
 },
 "nbformat": 4,
 "nbformat_minor": 2
}
